{
 "cells": [
  {
   "cell_type": "code",
   "execution_count": 56,
   "metadata": {},
   "outputs": [],
   "source": [
    "def parse_input(file_path):\n",
    "    with open(file_path, 'r') as file:\n",
    "        lines = [line.strip() for line in file] \n",
    "    return lines"
   ]
  },
  {
   "cell_type": "markdown",
   "metadata": {},
   "source": [
    "<article class=\"day-desc\"><h2>--- Day 4: Ceres Search ---</h2><p>\"Looks like the Chief's not here. Next!\" One of The Historians pulls out a device and pushes the only button on it. After a brief flash, you recognize the interior of the <a href=\"/2019/day/10\">Ceres monitoring station</a>!</p>\n",
    "<p>As the search for the Chief continues, a small Elf who lives on the station tugs on your shirt; she'd like to know if you could help her with her <em>word search</em> (your puzzle input). She only has to find one word: <code>XMAS</code>.</p>\n",
    "<p>This word search allows words to be horizontal, vertical, diagonal, written backwards, or even overlapping other words. It's a little unusual, though, as you don't merely need to find one instance of <code>XMAS</code> - you need to find <em>all of them</em>. Here are a few ways <code>XMAS</code> might appear, where irrelevant characters have been replaced with <code>.</code>:<p>\n",
    "<pre><code>..X...\n",
    ".SAMX.\n",
    ".A..A.\n",
    "XMAS.S\n",
    ".X....\n",
    "</code></pre>\n",
    "<p>The actual word search will be full of letters instead. For example:</p>\n",
    "<pre><code>MMMSXXMASM\n",
    "MSAMXMSMSA\n",
    "AMXSXMAAMM\n",
    "MSAMASMSMX\n",
    "XMASAMXAMM\n",
    "XXAMMXXAMA\n",
    "SMSMSASXSS\n",
    "SAXAMASAAA\n",
    "MAMMMXMMMM\n",
    "MXMXAXMASX\n",
    "</code></pre>\n",
    "<p>In this word search, <code>XMAS</code> occurs a total of <code><em>18</em></code> times; here's the same word search again, but where letters not involved in any <code>XMAS</code> have been replaced with <code>.</code>:</p>\n",
    "<pre><code>....XXMAS.\n",
    ".SAMXMS...\n",
    "...S..A...\n",
    "..A.A.MS.X\n",
    "XMASAMX.MM\n",
    "X.....XA.A\n",
    "S.S.S.S.SS\n",
    ".A.A.A.A.A\n",
    "..M.M.M.MM\n",
    ".X.X.XMASX\n",
    "</code></pre>\n",
    "<p>Take a look at the little Elf's word search. <em>How many times does <code>XMAS</code> appear?</em></p>\n",
    "</p></p></article>"
   ]
  },
  {
   "cell_type": "code",
   "execution_count": 83,
   "metadata": {},
   "outputs": [
    {
     "name": "stdout",
     "output_type": "stream",
     "text": [
      "['M', 'M']\n",
      "['M', 'S']\n"
     ]
    },
    {
     "data": {
      "text/plain": [
       "0"
      ]
     },
     "execution_count": 83,
     "metadata": {},
     "output_type": "execute_result"
    }
   ],
   "source": [
    "string = \"XMAS\"\n",
    "def solution(input):\n",
    "    ans = 0\n",
    "    for i in range(len(input)):\n",
    "        for j in range(len(input[i])):\n",
    "            if checkChar2(input, i, j):\n",
    "                ans += 1\n",
    "    return ans\n",
    "            \n",
    "def checkChar2(input, i, j):\n",
    "    ans = 0\n",
    "    dir = [[1, 1], [-1, 1]]\n",
    "    if input[i][j] != \"A\":\n",
    "        return False\n",
    "    works = True\n",
    "    for x, y in dir:\n",
    "        list = []\n",
    "        dX = x + i\n",
    "        dY = y + j\n",
    "        if dX < 0 or dY < 0 or dX >= len(input) or dY >= len(input[0]):\n",
    "            works = False\n",
    "            break\n",
    "        list.append(input[dX][dY])\n",
    "        # print(list)\n",
    "        dX = x - i\n",
    "        dY = y - j\n",
    "        if dX < 0 or dY < 0 or dX >= len(input) or dY >= len(input[0]):\n",
    "            works = False\n",
    "            break\n",
    "        list.append(input[dX][dY])\n",
    "        print(list)\n",
    "        list.sort()\n",
    "        correct = ['M', 'S']\n",
    "        works = list == correct\n",
    "    return works\n",
    "\n",
    "def checkChar(input, i, j):\n",
    "    ans = 0\n",
    "    dir = [[1, 0], [0, 1], [-1, 0], [0, -1], [1, 1], [-1, 1], [1, -1], [-1, -1]]\n",
    "    for a, b, in dir:\n",
    "        dX = i\n",
    "        dY = j\n",
    "        works = True\n",
    "        for currentChar in string:\n",
    "            if dX < 0 or dX >= len(input) or dY < 0 or dY >= len(input[0]):\n",
    "                # print(\"HERE2\")\n",
    "                works = False\n",
    "                break\n",
    "\n",
    "            if input[dX][dY] != currentChar:\n",
    "                works = False\n",
    "                break\n",
    "            # else:\n",
    "                # print(input[dX][dY])\n",
    "\n",
    "            dX = dX + a\n",
    "            dY = dY + b\n",
    "        if works:\n",
    "            # print(\"WORKS\")\n",
    "            ans += 1\n",
    "    return ans\n",
    "\n",
    "input = parse_input('input1.txt')\n",
    "solution(input)"
   ]
  },
  {
   "cell_type": "code",
   "execution_count": 84,
   "metadata": {},
   "outputs": [],
   "source": [
    "# Submission\n"
   ]
  }
 ],
 "metadata": {
  "kernelspec": {
   "display_name": "Python 3",
   "language": "python",
   "name": "python3"
  },
  "language_info": {
   "codemirror_mode": {
    "name": "ipython",
    "version": 3
   },
   "file_extension": ".py",
   "mimetype": "text/x-python",
   "name": "python",
   "nbconvert_exporter": "python",
   "pygments_lexer": "ipython3",
   "version": "3.12.6"
  }
 },
 "nbformat": 4,
 "nbformat_minor": 4
}
