{
 "cells": [
  {
   "cell_type": "code",
   "execution_count": 52,
   "metadata": {},
   "outputs": [],
   "source": [
    "def parse_input(file_path):\n",
    "    with open(file_path, 'r') as file:\n",
    "        lines = [line.strip() for line in file]  # Reads and processes all lines\n",
    "    return lines\n"
   ]
  },
  {
   "cell_type": "markdown",
   "metadata": {},
   "source": [
    "<article class=\"day-desc\"><h2>--- Day 3: Mull It Over ---</h2><p>\"Our computers are having issues, so I have no idea if we have any Chief Historians <span title=\"There's a spot reserved for Chief Historians between the green toboggans and the red toboggans. They've never actually had any Chief Historians in stock, but it's best to be prepared.\">in stock</span>! You're welcome to check the warehouse, though,\" says the mildly flustered shopkeeper at the <a href=\"/2020/day/2\">North Pole Toboggan Rental Shop</a>. The Historians head out to take a look.</p>\n",
    "<p>The shopkeeper turns to you. \"Any chance you can see why our computers are having issues again?\"</p>\n",
    "<p>The computer appears to be trying to run a program, but its memory (your puzzle input) is <em>corrupted</em>. All of the instructions have been jumbled up!</p>\n",
    "<p>It seems like the goal of the program is just to <em>multiply some numbers</em>. It does that with instructions like <code>mul(X,Y)</code>, where <code>X</code> and <code>Y</code> are each 1-3 digit numbers. For instance, <code>mul(44,46)</code> multiplies <code>44</code> by <code>46</code> to get a result of <code>2024</code>. Similarly, <code>mul(123,4)</code> would multiply <code>123</code> by <code>4</code>.</p>\n",
    "<p>However, because the program's memory has been corrupted, there are also many invalid characters that should be <em>ignored</em>, even if they look like part of a <code>mul</code> instruction. Sequences like <code>mul(4*</code>, <code>mul(6,9!</code>, <code>?(12,34)</code>, or <code>mul ( 2 , 4 )</code> do <em>nothing</em>.</p>\n",
    "<p>For example, consider the following section of corrupted memory:</p>\n",
    "<pre><code>x<em>mul(2,4)</em>%&amp;mul[3,7]!@^do_not_<em>mul(5,5)</em>+mul(32,64]then(<em>mul(11,8)mul(8,5)</em>)</code></pre>\n",
    "<p>Only the four highlighted sections are real <code>mul</code> instructions. Adding up the result of each instruction produces <code><em>161</em></code> (<code>2*4 + 5*5 + 11*8 + 8*5</code>).</p>\n",
    "<p>Scan the corrupted memory for uncorrupted <code>mul</code> instructions. <em>What do you get if you add up all of the results of the multiplications?</em></p>\n",
    "</article>"
   ]
  },
  {
   "cell_type": "code",
   "execution_count": null,
   "metadata": {},
   "outputs": [
    {
     "name": "stdout",
     "output_type": "stream",
     "text": [
      "87163705\n"
     ]
    }
   ],
   "source": [
    "import re\n",
    "\n",
    "def solution(input):\n",
    "    total_sum = 0\n",
    "    is_enabled = True  \n",
    "    mul_pattern = r\"mul\\((\\d+),(\\d+)\\)\"\n",
    "    do_pattern = r\"do\\(\\)\"\n",
    "    dont_pattern = r\"don't\\(\\)\"\n",
    "\n",
    "    for line in input:\n",
    "        instructions = re.split(r\"(?<=\\))\", line) \n",
    "        for instruction in instructions:\n",
    "            if re.search(do_pattern, instruction):\n",
    "                is_enabled = True\n",
    "            elif re.search(dont_pattern, instruction):\n",
    "                is_enabled = False\n",
    "            if is_enabled:\n",
    "                matches = re.findall(mul_pattern, instruction)\n",
    "                for match in matches:\n",
    "                    a, b = map(int, match)\n",
    "                    total_sum += a * b\n",
    "\n",
    "    return total_sum\n",
    "\n",
    "# Helper function to read the file\n",
    "def parse_input(file_path):\n",
    "    with open(file_path, 'r') as file:\n",
    "        lines = [line.strip() for line in file]\n",
    "    return lines\n",
    "\n",
    "# Example usage\n",
    "input = parse_input('input1.txt')\n",
    "print(solution(input))\n"
   ]
  },
  {
   "cell_type": "code",
   "execution_count": 64,
   "metadata": {},
   "outputs": [],
   "source": [
    "# Submission\n"
   ]
  }
 ],
 "metadata": {
  "kernelspec": {
   "display_name": "base",
   "language": "python",
   "name": "python3"
  },
  "language_info": {
   "codemirror_mode": {
    "name": "ipython",
    "version": 3
   },
   "file_extension": ".py",
   "mimetype": "text/x-python",
   "name": "python",
   "nbconvert_exporter": "python",
   "pygments_lexer": "ipython3",
   "version": "3.12.3"
  }
 },
 "nbformat": 4,
 "nbformat_minor": 4
}
