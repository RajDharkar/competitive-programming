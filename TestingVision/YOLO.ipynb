{
 "cells": [
  {
   "cell_type": "code",
   "execution_count": null,
   "id": "0a5639ae-d36f-46db-aa13-d8829771231c",
   "metadata": {},
   "outputs": [],
   "source": [
    "from ultralytics import YOLO\n",
    "\n",
    "model = YOLO('yolo11n.yaml')\n",
    "\n",
    "preTrainedModel = YOLO('yolo11n.pt')\n",
    "\n",
    "results = model.train(data = \"coco8.yaml\", epochs=3)\n",
    "\n",
    "results = model.val()\n",
    "\n",
    "results = model(\"https://ultralytics.com/images/bus.jpg\")\n",
    "\n",
    "sucess = model.export(format=\"omnx\")\n",
    "\n"
   ]
  }
 ],
 "metadata": {
  "kernelspec": {
   "display_name": "Python 3 (ipykernel)",
   "language": "python",
   "name": "python3"
  },
  "language_info": {
   "codemirror_mode": {
    "name": "ipython",
    "version": 3
   },
   "file_extension": ".py",
   "mimetype": "text/x-python",
   "name": "python",
   "nbconvert_exporter": "python",
   "pygments_lexer": "ipython3",
   "version": "3.12.6"
  }
 },
 "nbformat": 4,
 "nbformat_minor": 5
}
